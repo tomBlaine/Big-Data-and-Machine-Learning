{
  "nbformat": 4,
  "nbformat_minor": 0,
  "metadata": {
    "colab": {
      "provenance": [],
      "collapsed_sections": []
    },
    "kernelspec": {
      "name": "python3",
      "display_name": "Python 3"
    },
    "language_info": {
      "name": "python"
    }
  },
  "cells": [
    {
      "cell_type": "markdown",
      "source": [
        "Thomas Blaine\\\n",
        "7/9/22\\\n",
        "2033755"
      ],
      "metadata": {
        "id": "aEKs8FE-s9gz"
      }
    },
    {
      "cell_type": "markdown",
      "source": [
        "*Task 1.1*"
      ],
      "metadata": {
        "id": "5KeucqNLeYxs"
      }
    },
    {
      "cell_type": "code",
      "source": [
        "import numpy\n",
        "import matplotlib.pyplot as plt"
      ],
      "metadata": {
        "id": "71-Xo_Z8poLa"
      },
      "execution_count": 1,
      "outputs": []
    },
    {
      "cell_type": "code",
      "source": [
        "x=345\n",
        "print((2*x)+(5**3))\n"
      ],
      "metadata": {
        "id": "sAul1Voatc_8"
      },
      "execution_count": null,
      "outputs": []
    },
    {
      "cell_type": "code",
      "source": [
        "print(\"hello world\")"
      ],
      "metadata": {
        "colab": {
          "base_uri": "https://localhost:8080/"
        },
        "id": "0Rs4KB6fuFhV",
        "outputId": "8c8b348f-54e5-4e79-ce2a-330fc30b9d2c"
      },
      "execution_count": null,
      "outputs": [
        {
          "output_type": "stream",
          "name": "stdout",
          "text": [
            "hello world\n"
          ]
        }
      ]
    },
    {
      "cell_type": "code",
      "source": [
        "def function1(w,x,b) :\n",
        "  return ((w*x)+b)"
      ],
      "metadata": {
        "id": "sSipbhw1u5Nn"
      },
      "execution_count": null,
      "outputs": []
    },
    {
      "cell_type": "code",
      "source": [
        "print(function1(2,345,(5**3)))"
      ],
      "metadata": {
        "colab": {
          "base_uri": "https://localhost:8080/"
        },
        "id": "Xypp1e1QvRbG",
        "outputId": "bc87a6dd-6040-4d68-9b49-8e885e7af5b0"
      },
      "execution_count": null,
      "outputs": [
        {
          "output_type": "stream",
          "name": "stdout",
          "text": [
            "815\n"
          ]
        }
      ]
    },
    {
      "cell_type": "markdown",
      "source": [
        "*Task 1.2*"
      ],
      "metadata": {
        "id": "S7SN0NhReSWc"
      }
    },
    {
      "cell_type": "code",
      "source": [
        "myList = [\"hello\", \"my\", \"name\", \"is\", \"tom\"]"
      ],
      "metadata": {
        "id": "l2xLY-csxOpn"
      },
      "execution_count": null,
      "outputs": []
    },
    {
      "cell_type": "code",
      "source": [
        "for i in range(4,-1,-1) :\n",
        "  print(myList[i])"
      ],
      "metadata": {
        "colab": {
          "base_uri": "https://localhost:8080/"
        },
        "id": "d7ktU8cexXbz",
        "outputId": "cf9776b7-cc0f-4ab9-90a6-5e3a72116655"
      },
      "execution_count": null,
      "outputs": [
        {
          "output_type": "stream",
          "name": "stdout",
          "text": [
            "tom\n",
            "is\n",
            "name\n",
            "my\n",
            "hello\n"
          ]
        }
      ]
    },
    {
      "cell_type": "code",
      "source": [
        "def equals_100(x) :\n",
        "  if x==100: \n",
        "    return True\n",
        "  else :\n",
        "    return False"
      ],
      "metadata": {
        "id": "XE8YZkAqylzD"
      },
      "execution_count": null,
      "outputs": []
    },
    {
      "cell_type": "code",
      "source": [
        "print(equals_100(99))\n",
        "print(equals_100(100))\n"
      ],
      "metadata": {
        "colab": {
          "base_uri": "https://localhost:8080/"
        },
        "id": "SHmmddVEzITa",
        "outputId": "a44c6bd2-3923-4bf5-d3fd-19f2e868f6e6"
      },
      "execution_count": null,
      "outputs": [
        {
          "output_type": "stream",
          "name": "stdout",
          "text": [
            "False\n",
            "True\n"
          ]
        }
      ]
    },
    {
      "cell_type": "code",
      "source": [
        "my_dictionary = {\n",
        "    'data_name' : 'Animal counts',\n",
        "    'label' : [\"cat\", \"dog\", \"fish\"],\n",
        "    'count' : [2,5,10]\n",
        "}"
      ],
      "metadata": {
        "id": "XvHduu2FzesJ"
      },
      "execution_count": null,
      "outputs": []
    },
    {
      "cell_type": "code",
      "source": [
        "print(list(my_dictionary.values())[2])"
      ],
      "metadata": {
        "colab": {
          "base_uri": "https://localhost:8080/"
        },
        "id": "LBUvAsQC1BBB",
        "outputId": "075d0bde-801a-4490-80c5-54b161345c8d"
      },
      "execution_count": null,
      "outputs": [
        {
          "output_type": "stream",
          "name": "stdout",
          "text": [
            "[2, 5, 10]\n"
          ]
        }
      ]
    },
    {
      "cell_type": "code",
      "source": [
        "print(f'Animal name: {my_dictionary[\"label\"][1]}, Count: {my_dictionary[\"count\"][1]}')"
      ],
      "metadata": {
        "colab": {
          "base_uri": "https://localhost:8080/"
        },
        "id": "JD-TTEj352tK",
        "outputId": "d28150e6-9fc8-4f05-fd91-73545641cc19"
      },
      "execution_count": null,
      "outputs": [
        {
          "output_type": "stream",
          "name": "stdout",
          "text": [
            "Animal name: dog, Count: 5\n"
          ]
        }
      ]
    },
    {
      "cell_type": "markdown",
      "source": [
        "*Task 1.3*"
      ],
      "metadata": {
        "id": "OkMgnqN1q45Q"
      }
    },
    {
      "cell_type": "code",
      "source": [
        "matrix1 = numpy.random.randint(0,10,(2,3))\n",
        "matrix2 = numpy.random.randint(0,10,(3,4))"
      ],
      "metadata": {
        "id": "YncXMgSKrCvu"
      },
      "execution_count": 2,
      "outputs": []
    },
    {
      "cell_type": "code",
      "source": [
        "matrix3 = numpy.matmul(matrix1,matrix2)\n",
        "print(matrix3)"
      ],
      "metadata": {
        "colab": {
          "base_uri": "https://localhost:8080/"
        },
        "id": "NCZFM4ZavLv1",
        "outputId": "a3d3b88c-e10c-4fc7-9ad1-4d36e8011a1a"
      },
      "execution_count": 3,
      "outputs": [
        {
          "output_type": "stream",
          "name": "stdout",
          "text": [
            "[[41 77 35  4]\n",
            " [66 77 36 20]]\n"
          ]
        }
      ]
    },
    {
      "cell_type": "code",
      "source": [
        "print(matrix3[:,0])"
      ],
      "metadata": {
        "id": "cUto1McvZgjj",
        "colab": {
          "base_uri": "https://localhost:8080/"
        },
        "outputId": "9b788b42-07ed-4d4b-94ce-81579e0c9165"
      },
      "execution_count": 5,
      "outputs": [
        {
          "output_type": "stream",
          "name": "stdout",
          "text": [
            "[41 66]\n"
          ]
        }
      ]
    },
    {
      "cell_type": "markdown",
      "source": [
        "*Task 1.4*"
      ],
      "metadata": {
        "id": "kBYWR5vFZij6"
      }
    },
    {
      "cell_type": "code",
      "source": [
        "data1 = numpy.load(\"Iris_data.npy\")"
      ],
      "metadata": {
        "id": "y2UuRqqEZm_N"
      },
      "execution_count": null,
      "outputs": []
    },
    {
      "cell_type": "code",
      "source": [
        "numpy.shape(data1)"
      ],
      "metadata": {
        "colab": {
          "base_uri": "https://localhost:8080/"
        },
        "id": "OmmvbGILcZpx",
        "outputId": "513493a5-5344-4c1f-e3be-8658c1ef3168"
      },
      "execution_count": null,
      "outputs": [
        {
          "output_type": "execute_result",
          "data": {
            "text/plain": [
              "(150, 4)"
            ]
          },
          "metadata": {},
          "execution_count": 20
        }
      ]
    },
    {
      "cell_type": "code",
      "source": [
        "plt.figure()\n",
        "plt.scatter(data1[:,0], data1[:,1])\n",
        "plt.xlabel('Sepal Length')\n",
        "plt.ylabel('Sepal Width')\n",
        "plt.title('Iris Sepal length compared to width')\n",
        "plt.show() "
      ],
      "metadata": {
        "colab": {
          "base_uri": "https://localhost:8080/",
          "height": 295
        },
        "id": "HiwYafSXdMc0",
        "outputId": "7726ea29-098f-4e10-998b-bec699995746"
      },
      "execution_count": null,
      "outputs": [
        {
          "output_type": "display_data",
          "data": {
            "text/plain": [
              "<Figure size 432x288 with 1 Axes>"
            ],
            "image/png": "[encoded data removed]"
          },
          "metadata": {
            "needs_background": "light"
          }
        }
      ]
    }
  ]
}