{
 "cells": [
  {
   "cell_type": "code",
   "execution_count": 4,
   "metadata": {
    "id": "vc2rtvImdD46",
    "scrolled": false
   },
   "outputs": [],
   "source": [
    "import numpy"
   ]
  },
  {
   "cell_type": "code",
   "execution_count": 1,
   "metadata": {},
   "outputs": [
    {
     "name": "stderr",
     "output_type": "stream",
     "text": [
      "2022-12-18 17:08:02.905897: I tensorflow/core/platform/cpu_feature_guard.cc:193] This TensorFlow binary is optimized with oneAPI Deep Neural Network Library (oneDNN) to use the following CPU instructions in performance-critical operations:  AVX2 FMA\n",
      "To enable them in other operations, rebuild TensorFlow with the appropriate compiler flags.\n"
     ]
    }
   ],
   "source": [
    "import matplotlib.pyplot as plt\n",
    "from sklearn.svm import SVC\n",
    "from sklearn.metrics import accuracy_score\n",
    "from sklearn.preprocessing import StandardScaler\n",
    "import skimage.feature\n",
    "from skimage.feature import hog\n",
    "import tensorflow as tf\n",
    "from tensorflow import keras\n",
    "from tensorflow.keras.datasets import mnist\n",
    "from tensorflow.keras.models import Sequential\n",
    "from tensorflow.keras.layers import Dense, Dropout, Conv2D, MaxPooling2D, Flatten"
   ]
  },
  {
   "cell_type": "code",
   "execution_count": 58,
   "metadata": {},
   "outputs": [],
   "source": [
    "from tensorflow.keras.optimizers import SGD, Adam, RMSprop\n",
    "from keras.utils import to_categorical\n",
    "from sklearn.metrics import confusion_matrix"
   ]
  },
  {
   "cell_type": "markdown",
   "metadata": {},
   "source": [
    "**SVC approach**"
   ]
  },
  {
   "cell_type": "code",
   "execution_count": 168,
   "metadata": {
    "scrolled": true
   },
   "outputs": [
    {
     "name": "stdout",
     "output_type": "stream",
     "text": [
      "Train data shape=  (32, 32, 3, 10000)\n",
      "Test data shape=  (32, 32, 3, 1000)\n"
     ]
    }
   ],
   "source": [
    "trnData=numpy.load('trnImage.npy')\n",
    "trnLabels=numpy.load('trnLabel.npy')\n",
    "tstData=numpy.load('tstImageS.npy')\n",
    "tstLabels=numpy.load('tstLabelS.npy')\n",
    "print(\"Train data shape= \", trnData.shape)\n",
    "print(\"Test data shape= \", tstData.shape)\n"
   ]
  },
  {
   "cell_type": "markdown",
   "metadata": {},
   "source": [
    "We have now loaded the numpy data and printed its shape"
   ]
  },
  {
   "cell_type": "code",
   "execution_count": 147,
   "metadata": {
    "id": "-IT4EU_ld0DN"
   },
   "outputs": [
    {
     "name": "stderr",
     "output_type": "stream",
     "text": [
      "/var/folders/dl/7jz716sd7y916tfjbr57xs5r0000gn/T/ipykernel_67918/1073850469.py:6: FutureWarning: `multichannel` is a deprecated argument name for `hog`. It will be removed in version 1.0. Please use `channel_axis` instead.\n",
      "  trnDataHog = skimage.feature.hog(image, pixels_per_cell=[3,3], cells_per_block=[2,2], multichannel=True, orientations=9)\n",
      "/usr/local/Cellar/jupyterlab/3.4.8/libexec/lib/python3.10/site-packages/sklearn/utils/validation.py:1141: DataConversionWarning: A column-vector y was passed when a 1d array was expected. Please change the shape of y to (n_samples, ), for example using ravel().\n",
      "  y = column_or_1d(y, warn=True)\n"
     ]
    },
    {
     "data": {
      "text/html": [
       "<style>#sk-container-id-5 {color: black;background-color: white;}#sk-container-id-5 pre{padding: 0;}#sk-container-id-5 div.sk-toggleable {background-color: white;}#sk-container-id-5 label.sk-toggleable__label {cursor: pointer;display: block;width: 100%;margin-bottom: 0;padding: 0.3em;box-sizing: border-box;text-align: center;}#sk-container-id-5 label.sk-toggleable__label-arrow:before {content: \"▸\";float: left;margin-right: 0.25em;color: #696969;}#sk-container-id-5 label.sk-toggleable__label-arrow:hover:before {color: black;}#sk-container-id-5 div.sk-estimator:hover label.sk-toggleable__label-arrow:before {color: black;}#sk-container-id-5 div.sk-toggleable__content {max-height: 0;max-width: 0;overflow: hidden;text-align: left;background-color: #f0f8ff;}#sk-container-id-5 div.sk-toggleable__content pre {margin: 0.2em;color: black;border-radius: 0.25em;background-color: #f0f8ff;}#sk-container-id-5 input.sk-toggleable__control:checked~div.sk-toggleable__content {max-height: 200px;max-width: 100%;overflow: auto;}#sk-container-id-5 input.sk-toggleable__control:checked~label.sk-toggleable__label-arrow:before {content: \"▾\";}#sk-container-id-5 div.sk-estimator input.sk-toggleable__control:checked~label.sk-toggleable__label {background-color: #d4ebff;}#sk-container-id-5 div.sk-label input.sk-toggleable__control:checked~label.sk-toggleable__label {background-color: #d4ebff;}#sk-container-id-5 input.sk-hidden--visually {border: 0;clip: rect(1px 1px 1px 1px);clip: rect(1px, 1px, 1px, 1px);height: 1px;margin: -1px;overflow: hidden;padding: 0;position: absolute;width: 1px;}#sk-container-id-5 div.sk-estimator {font-family: monospace;background-color: #f0f8ff;border: 1px dotted black;border-radius: 0.25em;box-sizing: border-box;margin-bottom: 0.5em;}#sk-container-id-5 div.sk-estimator:hover {background-color: #d4ebff;}#sk-container-id-5 div.sk-parallel-item::after {content: \"\";width: 100%;border-bottom: 1px solid gray;flex-grow: 1;}#sk-container-id-5 div.sk-label:hover label.sk-toggleable__label {background-color: #d4ebff;}#sk-container-id-5 div.sk-serial::before {content: \"\";position: absolute;border-left: 1px solid gray;box-sizing: border-box;top: 0;bottom: 0;left: 50%;z-index: 0;}#sk-container-id-5 div.sk-serial {display: flex;flex-direction: column;align-items: center;background-color: white;padding-right: 0.2em;padding-left: 0.2em;position: relative;}#sk-container-id-5 div.sk-item {position: relative;z-index: 1;}#sk-container-id-5 div.sk-parallel {display: flex;align-items: stretch;justify-content: center;background-color: white;position: relative;}#sk-container-id-5 div.sk-item::before, #sk-container-id-5 div.sk-parallel-item::before {content: \"\";position: absolute;border-left: 1px solid gray;box-sizing: border-box;top: 0;bottom: 0;left: 50%;z-index: -1;}#sk-container-id-5 div.sk-parallel-item {display: flex;flex-direction: column;z-index: 1;position: relative;background-color: white;}#sk-container-id-5 div.sk-parallel-item:first-child::after {align-self: flex-end;width: 50%;}#sk-container-id-5 div.sk-parallel-item:last-child::after {align-self: flex-start;width: 50%;}#sk-container-id-5 div.sk-parallel-item:only-child::after {width: 0;}#sk-container-id-5 div.sk-dashed-wrapped {border: 1px dashed gray;margin: 0 0.4em 0.5em 0.4em;box-sizing: border-box;padding-bottom: 0.4em;background-color: white;}#sk-container-id-5 div.sk-label label {font-family: monospace;font-weight: bold;display: inline-block;line-height: 1.2em;}#sk-container-id-5 div.sk-label-container {text-align: center;}#sk-container-id-5 div.sk-container {/* jupyter's `normalize.less` sets `[hidden] { display: none; }` but bootstrap.min.css set `[hidden] { display: none !important; }` so we also need the `!important` here to be able to override the default hidden behavior on the sphinx rendered scikit-learn.org. See: https://github.com/scikit-learn/scikit-learn/issues/21755 */display: inline-block !important;position: relative;}#sk-container-id-5 div.sk-text-repr-fallback {display: none;}</style><div id=\"sk-container-id-5\" class=\"sk-top-container\"><div class=\"sk-text-repr-fallback\"><pre>SVC()</pre><b>In a Jupyter environment, please rerun this cell to show the HTML representation or trust the notebook. <br />On GitHub, the HTML representation is unable to render, please try loading this page with nbviewer.org.</b></div><div class=\"sk-container\" hidden><div class=\"sk-item\"><div class=\"sk-estimator sk-toggleable\"><input class=\"sk-toggleable__control sk-hidden--visually\" id=\"sk-estimator-id-5\" type=\"checkbox\" checked><label for=\"sk-estimator-id-5\" class=\"sk-toggleable__label sk-toggleable__label-arrow\">SVC</label><div class=\"sk-toggleable__content\"><pre>SVC()</pre></div></div></div></div></div>"
      ],
      "text/plain": [
       "SVC()"
      ]
     },
     "execution_count": 147,
     "metadata": {},
     "output_type": "execute_result"
    }
   ],
   "source": [
    "trnData = trnData.astype(numpy.float64)\n",
    "\n",
    "trnDataHogs = []\n",
    "for i in range(10000):\n",
    "    image = trnData[:,:,:,i]\n",
    "    trnDataHog = skimage.feature.hog(image, pixels_per_cell=[3,3], cells_per_block=[2,2], multichannel=True, orientations=9)\n",
    "    trnDataHogs.append(trnDataHog)\n",
    "\n",
    "trnDataHogs=numpy.array(trnDataHogs)\n",
    "clf = SVC(kernel='rbf')\n",
    "clf.fit(trnDataHogs, trnLabels)\n"
   ]
  },
  {
   "cell_type": "markdown",
   "metadata": {},
   "source": [
    "In this cell we retrieve the histograms of oriented gradients for each image of the training data. We then define the SVC model and fit it to out training data and labels."
   ]
  },
  {
   "cell_type": "code",
   "execution_count": 148,
   "metadata": {
    "id": "CAMUvSAVfAkl"
   },
   "outputs": [
    {
     "name": "stderr",
     "output_type": "stream",
     "text": [
      "/var/folders/dl/7jz716sd7y916tfjbr57xs5r0000gn/T/ipykernel_67918/2036161437.py:6: FutureWarning: `multichannel` is a deprecated argument name for `hog`. It will be removed in version 1.0. Please use `channel_axis` instead.\n",
      "  tstDataHog = skimage.feature.hog(tstImage, pixels_per_cell=[3,3], cells_per_block=[2,2], multichannel=True, orientations=9)\n"
     ]
    }
   ],
   "source": [
    "tstData = tstData.astype(numpy.float64)\n",
    "\n",
    "tstDataHogs = []\n",
    "for i in range(1000):\n",
    "    tstImage=tstData[:,:,:,i]\n",
    "    tstDataHog = skimage.feature.hog(tstImage, pixels_per_cell=[3,3], cells_per_block=[2,2], multichannel=True, orientations=9)\n",
    "    tstDataHogs.append(tstDataHog)\n",
    "    \n",
    "tstDataHogs=numpy.array(tstDataHogs)"
   ]
  },
  {
   "cell_type": "markdown",
   "metadata": {},
   "source": [
    "In this cell we retrieve the histograms of oriented gradients for each image of the test data."
   ]
  },
  {
   "cell_type": "code",
   "execution_count": 149,
   "metadata": {
    "id": "9PyUm_wxaqpH",
    "scrolled": true
   },
   "outputs": [
    {
     "name": "stdout",
     "output_type": "stream",
     "text": [
      "Accuracy score for SVC model:  0.538\n"
     ]
    }
   ],
   "source": [
    "testScore1 = clf.score(tstDataHogs, tstLabels)\n",
    "print(\"Accuracy score for SVC model: \", testScore1)"
   ]
  },
  {
   "cell_type": "code",
   "execution_count": 150,
   "metadata": {},
   "outputs": [
    {
     "name": "stdout",
     "output_type": "stream",
     "text": [
      "[[57  4  8  2  6  1  3  2 15  2]\n",
      " [ 5 61  4  1  3  0  5  1 14  6]\n",
      " [12  1 31 10 12 11 11  5  5  2]\n",
      " [ 3  1  9 42  8 16 10  6  2  3]\n",
      " [ 8  1  4  8 60  3 11  2  2  1]\n",
      " [ 1  1 12 18  7 45  9  5  1  1]\n",
      " [ 2  3  9  6 10  4 63  1  1  1]\n",
      " [ 0  1  6  9 10 13  0 56  2  3]\n",
      " [15 11  1  0  4  1  2  0 61  5]\n",
      " [ 6  4  3  0  8  3  2  3  9 62]]\n"
     ]
    }
   ],
   "source": [
    "y_pred = clf.predict(tstDataHogs)\n",
    "print(confusion_matrix(tstLabels, y_pred))"
   ]
  },
  {
   "cell_type": "markdown",
   "metadata": {},
   "source": [
    "Confusion matrix for SVC model on test data"
   ]
  },
  {
   "cell_type": "markdown",
   "metadata": {},
   "source": [
    "**CNN approach**"
   ]
  },
  {
   "cell_type": "code",
   "execution_count": 169,
   "metadata": {},
   "outputs": [
    {
     "name": "stdout",
     "output_type": "stream",
     "text": [
      "(1000, 32, 32, 3)\n",
      "(10000, 32, 32, 3)\n"
     ]
    }
   ],
   "source": [
    "trnData=numpy.moveaxis(trnData, 3, 0)\n",
    "tstData=numpy.moveaxis(tstData, 3, 0)\n",
    "print(tstData.shape)\n",
    "print(trnData.shape)"
   ]
  },
  {
   "cell_type": "markdown",
   "metadata": {},
   "source": [
    "We move the axis of the data for input to CNN"
   ]
  },
  {
   "cell_type": "code",
   "execution_count": 170,
   "metadata": {},
   "outputs": [],
   "source": [
    "true_y = tstLabels"
   ]
  },
  {
   "cell_type": "code",
   "execution_count": 171,
   "metadata": {},
   "outputs": [],
   "source": [
    "trnLabels = to_categorical(trnLabels)\n",
    "tstLabels = to_categorical(tstLabels)"
   ]
  },
  {
   "cell_type": "markdown",
   "metadata": {},
   "source": [
    "Converting labels to binary matricies."
   ]
  },
  {
   "cell_type": "code",
   "execution_count": 172,
   "metadata": {},
   "outputs": [],
   "source": [
    "model = Sequential()\n",
    "model.add(Conv2D(32, (3, 3), activation='relu', padding='same', input_shape=(32, 32, 3), kernel_initializer='he_uniform'))\n",
    "model.add(Conv2D(32, (3, 3), activation='relu', padding='same', kernel_initializer='he_uniform'))\n",
    "model.add(MaxPooling2D((2, 2)))\n",
    "model.add(Dropout(0.2))\n",
    "model.add(Conv2D(64, (3, 3), activation='relu', padding='same', kernel_initializer='he_uniform'))\n",
    "model.add(Conv2D(64, (3, 3), activation='relu', padding='same', kernel_initializer='he_uniform'))\n",
    "model.add(MaxPooling2D((2, 2)))\n",
    "model.add(Dropout(0.3))\n",
    "model.add(Flatten())\n",
    "model.add(Dense(128, activation='relu', kernel_initializer='he_uniform'))\n",
    "model.add(Dense(10, activation='softmax'))\n",
    "# compile model\n",
    "opt = Adam()\n",
    "model.compile(optimizer=opt, loss='categorical_crossentropy', metrics=['accuracy'])\n"
   ]
  },
  {
   "cell_type": "markdown",
   "metadata": {},
   "source": [
    "Here we create the model and add 2 convilusional 2D layers, with input shape (32,32,3) using relu activation.\n",
    "We then define a Adam optimizer."
   ]
  },
  {
   "cell_type": "code",
   "execution_count": 173,
   "metadata": {
    "scrolled": true
   },
   "outputs": [
    {
     "name": "stdout",
     "output_type": "stream",
     "text": [
      "Epoch 1/10\n",
      "157/157 [==============================] - 23s 121ms/step - loss: 2.1197 - accuracy: 0.2314 - val_loss: 1.7500 - val_accuracy: 0.3620\n",
      "Epoch 2/10\n",
      "157/157 [==============================] - 22s 140ms/step - loss: 1.5845 - accuracy: 0.4307 - val_loss: 1.4745 - val_accuracy: 0.4700\n",
      "Epoch 3/10\n",
      "157/157 [==============================] - 21s 132ms/step - loss: 1.3934 - accuracy: 0.4945 - val_loss: 1.4033 - val_accuracy: 0.4940\n",
      "Epoch 4/10\n",
      "157/157 [==============================] - 28s 178ms/step - loss: 1.2853 - accuracy: 0.5358 - val_loss: 1.3798 - val_accuracy: 0.5110\n",
      "Epoch 5/10\n",
      "157/157 [==============================] - 32s 205ms/step - loss: 1.1541 - accuracy: 0.5812 - val_loss: 1.2720 - val_accuracy: 0.5520\n",
      "Epoch 6/10\n",
      "157/157 [==============================] - 24s 154ms/step - loss: 1.0461 - accuracy: 0.6291 - val_loss: 1.1984 - val_accuracy: 0.5910\n",
      "Epoch 7/10\n",
      "157/157 [==============================] - 23s 148ms/step - loss: 0.9375 - accuracy: 0.6690 - val_loss: 1.2367 - val_accuracy: 0.5820\n",
      "Epoch 8/10\n",
      "157/157 [==============================] - 24s 153ms/step - loss: 0.8455 - accuracy: 0.7032 - val_loss: 1.1447 - val_accuracy: 0.6000\n",
      "Epoch 9/10\n",
      "157/157 [==============================] - 25s 158ms/step - loss: 0.7467 - accuracy: 0.7317 - val_loss: 1.2274 - val_accuracy: 0.6040\n",
      "Epoch 10/10\n",
      "157/157 [==============================] - 22s 141ms/step - loss: 0.6665 - accuracy: 0.7625 - val_loss: 1.1716 - val_accuracy: 0.6290\n"
     ]
    }
   ],
   "source": [
    "history3 = model.fit(trnData, trnLabels, epochs=10, validation_data=(tstData, tstLabels), batch_size=64) "
   ]
  },
  {
   "cell_type": "code",
   "execution_count": 178,
   "metadata": {},
   "outputs": [
    {
     "data": {
      "image/png": "[encoded data removed]",
      "text/plain": [
       "<Figure size 640x480 with 1 Axes>"
      ]
     },
     "metadata": {},
     "output_type": "display_data"
    },
    {
     "data": {
      "image/png": "[encoded data removed]",
      "text/plain": [
       "<Figure size 640x480 with 1 Axes>"
      ]
     },
     "metadata": {},
     "output_type": "display_data"
    }
   ],
   "source": [
    "plt.plot(history3.history['accuracy'])\n",
    "plt.plot(history3.history['val_accuracy'])\n",
    "plt.title('model accuracy')\n",
    "plt.ylabel('accuracy')\n",
    "plt.xlabel('epoch')\n",
    "plt.legend(['train','test'], loc='upper left')\n",
    "plt.show()\n",
    "\n",
    "plt.subplot(122)\n",
    "plt.plot(history3.history['loss'])\n",
    "plt.plot(history3.history['val_loss'])\n",
    "plt.xlabel('Epoch')\n",
    "plt.ylabel('Loss')\n",
    "plt.legend(['Training Loss',\n",
    "           'Validation Loss'])\n",
    "plt.title('Loss Curves')\n",
    "plt.show()"
   ]
  },
  {
   "cell_type": "code",
   "execution_count": 175,
   "metadata": {
    "scrolled": true
   },
   "outputs": [
    {
     "name": "stdout",
     "output_type": "stream",
     "text": [
      "32/32 [==============================] - 1s 15ms/step\n"
     ]
    }
   ],
   "source": [
    "predictedLabels = numpy.argmax(model.predict(tstData), axis=1)"
   ]
  },
  {
   "cell_type": "markdown",
   "metadata": {},
   "source": [
    "Predict classification of test data"
   ]
  },
  {
   "cell_type": "code",
   "execution_count": 177,
   "metadata": {},
   "outputs": [
    {
     "name": "stdout",
     "output_type": "stream",
     "text": [
      "[[59  4  8  1  3  4  0  1 13  7]\n",
      " [ 0 72  3  2  0  1  2  4  4 12]\n",
      " [ 8  0 52  5 11 10  5  7  1  1]\n",
      " [ 4  0 12 52  5 11  8  4  1  3]\n",
      " [ 2  0  6  6 58  4  9 10  1  4]\n",
      " [ 0  2 12 21  4 46  4  8  0  3]\n",
      " [ 0  0  9  4  6  2 76  1  0  2]\n",
      " [ 1  0  6 10  6  5  1 70  0  1]\n",
      " [ 6  6  3  1  4  0  2  0 75  3]\n",
      " [ 1 19  1  0  0  1  1  4  4 69]]\n"
     ]
    }
   ],
   "source": [
    "print(confusion_matrix(true_y, predictedLabels))"
   ]
  },
  {
   "cell_type": "markdown",
   "metadata": {},
   "source": [
    "Confusion matrix for CNN model on test data"
   ]
  }
 ],
 "metadata": {
  "colab": {
   "provenance": []
  },
  "kernelspec": {
   "display_name": "Python 3 (ipykernel)",
   "language": "python",
   "name": "python3"
  },
  "language_info": {
   "codemirror_mode": {
    "name": "ipython",
    "version": 3
   },
   "file_extension": ".py",
   "mimetype": "text/x-python",
   "name": "python",
   "nbconvert_exporter": "python",
   "pygments_lexer": "ipython3",
   "version": "3.10.8"
  }
 },
 "nbformat": 4,
 "nbformat_minor": 1
}
